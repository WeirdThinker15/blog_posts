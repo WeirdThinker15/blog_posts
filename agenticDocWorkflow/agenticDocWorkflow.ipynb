{
 "cells": [
  {
   "cell_type": "code",
   "execution_count": 2,
   "id": "c12583c6-5da9-408c-8ffc-e7a17d0d37c1",
   "metadata": {},
   "outputs": [],
   "source": [
    "# Importing the Required Libraries \n",
    "from IPython.display import display, HTML\n",
    "from helper import extract_html_content\n",
    "import random\n",
    "from helper import get_openai_api_key\n",
    "\n",
    "# LlamaIndex Libraries \n",
    "from llama_index.core.workflow import (\n",
    "    StartEvent,\n",
    "    StopEvent,\n",
    "    Workflow,\n",
    "    step,\n",
    "    Context\n",
    ")\n",
    "# For Visualization of Workflows \n",
    "from llama_index.utils.workflow import draw_all_possible_flows\n",
    "# For defining Custom Events \n",
    "from llama_index.core.workflow import Event"
   ]
  },
  {
   "cell_type": "code",
   "execution_count": 3,
   "id": "40a95c6e-c9b2-4cb8-a599-a0d4d157d237",
   "metadata": {},
   "outputs": [],
   "source": [
    "# Getting the OpenAPI Key \n",
    "api_key = get_openai_api_key()"
   ]
  },
  {
   "cell_type": "markdown",
   "id": "0100bb87-9a28-4b2b-8210-fb3d5f055e2c",
   "metadata": {},
   "source": [
    "## Creating a Workflow "
   ]
  },
  {
   "cell_type": "code",
   "execution_count": 7,
   "id": "15e8a5e6-706d-4f9b-8009-397916e9d0c9",
   "metadata": {},
   "outputs": [],
   "source": [
    "class MyWorkflow(Workflow):\n",
    "    # declare a function as a step\n",
    "    @step\n",
    "    async def my_step(self, ev: StartEvent) -> StopEvent:\n",
    "        # do something here\n",
    "        return StopEvent(result=\"Hello, world!\")"
   ]
  },
  {
   "cell_type": "code",
   "execution_count": 8,
   "id": "5de51c4b-c1f1-4a1e-a3ae-935b1959fdc8",
   "metadata": {},
   "outputs": [
    {
     "name": "stdout",
     "output_type": "stream",
     "text": [
      "Hello, world!\n"
     ]
    }
   ],
   "source": [
    "# instantiate the workflow\n",
    "basic_workflow = MyWorkflow(timeout=10, verbose=False)\n",
    "# run the workflow\n",
    "result = await basic_workflow.run()\n",
    "print(result)"
   ]
  },
  {
   "cell_type": "code",
   "execution_count": 12,
   "id": "3caffd7a-a802-4fdf-8430-1774c30eab55",
   "metadata": {},
   "outputs": [
    {
     "name": "stdout",
     "output_type": "stream",
     "text": [
      "basic_workflow.html\n"
     ]
    }
   ],
   "source": [
    "draw_all_possible_flows(\n",
    "    basic_workflow, \n",
    "    filename=\"basic_workflow.html\"\n",
    ")"
   ]
  },
  {
   "cell_type": "code",
   "execution_count": 4,
   "id": "685fabe1-2840-4d33-af7f-d177e21bdc06",
   "metadata": {},
   "outputs": [],
   "source": [
    "class FirstEvent(Event):\n",
    "    first_output: str\n",
    "\n",
    "class SecondEvent(Event):\n",
    "    second_output: str"
   ]
  },
  {
   "cell_type": "code",
   "execution_count": 19,
   "id": "26a067be-4242-4adc-9e0a-55bce4d334fb",
   "metadata": {},
   "outputs": [],
   "source": [
    "class MyWorkflow(Workflow):\n",
    "    @step\n",
    "    async def step_one(self, ev:StartEvent) -> FirstEvent : \n",
    "        print(ev.first_input)\n",
    "        return FirstEvent(first_output=\"First step complete\")\n",
    "\n",
    "    @step\n",
    "    async def step_two(self, ev:FirstEvent) -> SecondEvent :\n",
    "        print(ev.first_output)\n",
    "        return SecondEvent(second_output=\"Second step complete\")\n",
    "\n",
    "    @step\n",
    "    async def step_three(self, ev:SecondEvent) -> StopEvent:\n",
    "        print(ev.second_output)\n",
    "        return StopEvent(result=\"Workflow complete\")"
   ]
  },
  {
   "cell_type": "code",
   "execution_count": 20,
   "id": "ddb7e2c4-cc5a-4b31-8ec8-d7f1f5a9116e",
   "metadata": {},
   "outputs": [
    {
     "name": "stdout",
     "output_type": "stream",
     "text": [
      "Start the workflow.\n",
      "First step complete\n",
      "Second step complete\n",
      "Workflow complete\n"
     ]
    }
   ],
   "source": [
    "workflow = MyWorkflow(timeout=10, verbose=False)\n",
    "result = await workflow.run(first_input=\"Start the workflow.\")\n",
    "print(result)"
   ]
  },
  {
   "cell_type": "code",
   "execution_count": 22,
   "id": "fb86f1a8-fbc4-4e55-981a-3bb1ced3be55",
   "metadata": {},
   "outputs": [
    {
     "name": "stdout",
     "output_type": "stream",
     "text": [
      "custom_events.html\n"
     ]
    }
   ],
   "source": [
    "WORKFLOW_FILE = \"custom_events.html\"\n",
    "draw_all_possible_flows(workflow, filename=WORKFLOW_FILE)"
   ]
  },
  {
   "cell_type": "code",
   "execution_count": 24,
   "id": "a692c381-862f-4d72-ab6f-49fac450833e",
   "metadata": {},
   "outputs": [],
   "source": [
    "# html_content = extract_html_content(WORKFLOW_FILE)\n",
    "# display(HTML(html_content), metadata=dict(isolated=True))"
   ]
  },
  {
   "cell_type": "markdown",
   "id": "8753d03c-6fd1-41f9-8fb2-3f2c63aab103",
   "metadata": {},
   "source": [
    "## Creating Loops "
   ]
  },
  {
   "cell_type": "code",
   "execution_count": 7,
   "id": "f2d281b7-0fe6-444c-8bfe-69a124de3c43",
   "metadata": {},
   "outputs": [],
   "source": [
    "class LoopEvent(Event):\n",
    "    loop_output: str\n",
    "\n",
    "class MyWorkflow(Workflow):\n",
    "    @step\n",
    "    async def step_one(self, ev:StartEvent | LoopEvent) -> FirstEvent :         \n",
    "        if random.randint(0, 1) == 0:\n",
    "            print(\"Bad thing happened\")\n",
    "            return LoopEvent(loop_output=\"Back to step one.\")\n",
    "        else:\n",
    "            print(\"Good thing happened\")\n",
    "            return FirstEvent(first_output=\"First step complete.\")\n",
    "\n",
    "\n",
    "    @step\n",
    "    async def step_two(self, ev:FirstEvent) -> SecondEvent :\n",
    "        print(ev.first_output)\n",
    "        return SecondEvent(second_output=\"Second step complete\")\n",
    "\n",
    "    @step\n",
    "    async def step_three(self, ev:SecondEvent) -> StopEvent:\n",
    "        print(ev.second_output)\n",
    "        return StopEvent(result=\"Workflow complete\") "
   ]
  },
  {
   "cell_type": "code",
   "execution_count": 11,
   "id": "ae2f9528-b984-4e63-aaec-aacbad4ab79a",
   "metadata": {},
   "outputs": [
    {
     "ename": "WorkflowValidationError",
     "evalue": "The following events are consumed but never produced: LoopEvent",
     "output_type": "error",
     "traceback": [
      "\u001b[31m---------------------------------------------------------------------------\u001b[39m",
      "\u001b[31mWorkflowValidationError\u001b[39m                   Traceback (most recent call last)",
      "\u001b[36mCell\u001b[39m\u001b[36m \u001b[39m\u001b[32mIn[11]\u001b[39m\u001b[32m, line 2\u001b[39m\n\u001b[32m      1\u001b[39m loop_workflow = MyWorkflow(timeout=\u001b[32m10\u001b[39m, verbose=\u001b[38;5;28;01mFalse\u001b[39;00m)\n\u001b[32m----> \u001b[39m\u001b[32m2\u001b[39m result = \u001b[38;5;28;01mawait\u001b[39;00m \u001b[43mloop_workflow\u001b[49m\u001b[43m.\u001b[49m\u001b[43mrun\u001b[49m\u001b[43m(\u001b[49m\u001b[43mfirst_input\u001b[49m\u001b[43m=\u001b[49m\u001b[33;43m\"\u001b[39;49m\u001b[33;43mStart the workflow.\u001b[39;49m\u001b[33;43m\"\u001b[39;49m\u001b[43m)\u001b[49m\n\u001b[32m      3\u001b[39m \u001b[38;5;28mprint\u001b[39m(result)\n",
      "\u001b[36mFile \u001b[39m\u001b[32m~/DevWork/agenticDocWorkflow/.venv/lib/python3.12/site-packages/llama_index/core/instrumentation/dispatcher.py:322\u001b[39m, in \u001b[36mDispatcher.span.<locals>.wrapper\u001b[39m\u001b[34m(func, instance, args, kwargs)\u001b[39m\n\u001b[32m    319\u001b[39m             _logger.debug(\u001b[33mf\u001b[39m\u001b[33m\"\u001b[39m\u001b[33mFailed to reset active_span_id: \u001b[39m\u001b[38;5;132;01m{\u001b[39;00me\u001b[38;5;132;01m}\u001b[39;00m\u001b[33m\"\u001b[39m)\n\u001b[32m    321\u001b[39m \u001b[38;5;28;01mtry\u001b[39;00m:\n\u001b[32m--> \u001b[39m\u001b[32m322\u001b[39m     result = \u001b[43mfunc\u001b[49m\u001b[43m(\u001b[49m\u001b[43m*\u001b[49m\u001b[43margs\u001b[49m\u001b[43m,\u001b[49m\u001b[43m \u001b[49m\u001b[43m*\u001b[49m\u001b[43m*\u001b[49m\u001b[43mkwargs\u001b[49m\u001b[43m)\u001b[49m\n\u001b[32m    323\u001b[39m     \u001b[38;5;28;01mif\u001b[39;00m \u001b[38;5;28misinstance\u001b[39m(result, asyncio.Future):\n\u001b[32m    324\u001b[39m         \u001b[38;5;66;03m# If the result is a Future, wrap it\u001b[39;00m\n\u001b[32m    325\u001b[39m         new_future = asyncio.ensure_future(result)\n",
      "\u001b[36mFile \u001b[39m\u001b[32m~/DevWork/agenticDocWorkflow/.venv/lib/python3.12/site-packages/llama_index/core/workflow/workflow.py:330\u001b[39m, in \u001b[36mWorkflow.run\u001b[39m\u001b[34m(self, ctx, stepwise, checkpoint_callback, start_event, **kwargs)\u001b[39m\n\u001b[32m    328\u001b[39m \u001b[38;5;250m\u001b[39m\u001b[33;03m\"\"\"Runs the workflow until completion.\"\"\"\u001b[39;00m\n\u001b[32m    329\u001b[39m \u001b[38;5;66;03m# Validate the workflow and determine HITL usage\u001b[39;00m\n\u001b[32m--> \u001b[39m\u001b[32m330\u001b[39m uses_hitl = \u001b[38;5;28;43mself\u001b[39;49m\u001b[43m.\u001b[49m\u001b[43m_validate\u001b[49m\u001b[43m(\u001b[49m\u001b[43m)\u001b[49m\n\u001b[32m    331\u001b[39m \u001b[38;5;28;01mif\u001b[39;00m uses_hitl \u001b[38;5;129;01mand\u001b[39;00m stepwise:\n\u001b[32m    332\u001b[39m     \u001b[38;5;28;01mraise\u001b[39;00m WorkflowRuntimeError(\n\u001b[32m    333\u001b[39m         \u001b[33m\"\u001b[39m\u001b[33mHuman-in-the-loop is not supported with stepwise execution\u001b[39m\u001b[33m\"\u001b[39m\n\u001b[32m    334\u001b[39m     )\n",
      "\u001b[36mFile \u001b[39m\u001b[32m~/DevWork/agenticDocWorkflow/.venv/lib/python3.12/site-packages/llama_index/core/workflow/workflow.py:513\u001b[39m, in \u001b[36mWorkflow._validate\u001b[39m\u001b[34m(self)\u001b[39m\n\u001b[32m    511\u001b[39m \u001b[38;5;28;01mif\u001b[39;00m unconsumed_events:\n\u001b[32m    512\u001b[39m     names = \u001b[33m\"\u001b[39m\u001b[33m, \u001b[39m\u001b[33m\"\u001b[39m.join(ev.\u001b[34m__name__\u001b[39m \u001b[38;5;28;01mfor\u001b[39;00m ev \u001b[38;5;129;01min\u001b[39;00m unconsumed_events)\n\u001b[32m--> \u001b[39m\u001b[32m513\u001b[39m     \u001b[38;5;28;01mraise\u001b[39;00m WorkflowValidationError(\n\u001b[32m    514\u001b[39m         \u001b[33mf\u001b[39m\u001b[33m\"\u001b[39m\u001b[33mThe following events are consumed but never produced: \u001b[39m\u001b[38;5;132;01m{\u001b[39;00mnames\u001b[38;5;132;01m}\u001b[39;00m\u001b[33m\"\u001b[39m\n\u001b[32m    515\u001b[39m     )\n\u001b[32m    517\u001b[39m \u001b[38;5;66;03m# Check if there are any unused produced events (except specific built-in events)\u001b[39;00m\n\u001b[32m    518\u001b[39m unused_events = produced_events - consumed_events\n",
      "\u001b[31mWorkflowValidationError\u001b[39m: The following events are consumed but never produced: LoopEvent"
     ]
    }
   ],
   "source": [
    "loop_workflow = MyWorkflow(timeout=10, verbose=False)\n",
    "result = await loop_workflow.run(first_input=\"Start the workflow.\")\n",
    "print(result)"
   ]
  },
  {
   "cell_type": "code",
   "execution_count": 12,
   "id": "ac8dac2e-3a9c-4fe3-975b-91a8f119776a",
   "metadata": {},
   "outputs": [
    {
     "name": "stdout",
     "output_type": "stream",
     "text": [
      "loop_events.html\n"
     ]
    },
    {
     "data": {
      "text/html": [
       " <div style=\"width: 100%; height: 800px; overflow: hidden;\"> <html>\n",
       "    <head>\n",
       "        <meta charset=\"utf-8\">\n",
       "        \n",
       "            <script src=\"lib/bindings/utils.js\"></script>\n",
       "            <link rel=\"stylesheet\" href=\"https://cdnjs.cloudflare.com/ajax/libs/vis-network/9.1.2/dist/dist/vis-network.min.css\" integrity=\"sha512-WgxfT5LWjfszlPHXRmBWHkV2eceiWTOBvrKCNbdgDYTHrT2AeLCGbF4sZlZw3UMN3WtL0tGUoIAKsu8mllg/XA==\" crossorigin=\"anonymous\" referrerpolicy=\"no-referrer\" />\n",
       "            <script src=\"https://cdnjs.cloudflare.com/ajax/libs/vis-network/9.1.2/dist/vis-network.min.js\" integrity=\"sha512-LnvoEWDFrqGHlHmDD2101OrLcbsfkrzoSpvtSQtxK3RMnRV0eOkhhBN2dXHKRrUU8p2DGRTk35n4O8nWSVe1mQ==\" crossorigin=\"anonymous\" referrerpolicy=\"no-referrer\"></script>\n",
       "            \n",
       "        \n",
       "<center>\n",
       "<h1></h1>\n",
       "</center>\n",
       "\n",
       "<!-- <link rel=\"stylesheet\" href=\"../node_modules/vis/dist/vis.min.css\" type=\"text/css\" />\n",
       "<script type=\"text/javascript\" src=\"../node_modules/vis/dist/vis.js\"> </script>-->\n",
       "        <link\n",
       "          href=\"https://cdn.jsdelivr.net/npm/bootstrap@5.0.0-beta3/dist/css/bootstrap.min.css\"\n",
       "          rel=\"stylesheet\"\n",
       "          integrity=\"sha384-eOJMYsd53ii+scO/bJGFsiCZc+5NDVN2yr8+0RDqr0Ql0h+rP48ckxlpbzKgwra6\"\n",
       "          crossorigin=\"anonymous\"\n",
       "        />\n",
       "        <script\n",
       "          src=\"https://cdn.jsdelivr.net/npm/bootstrap@5.0.0-beta3/dist/js/bootstrap.bundle.min.js\"\n",
       "          integrity=\"sha384-JEW9xMcG8R+pH31jmWH6WWP0WintQrMb4s7ZOdauHnUtxwoG2vI5DkLtS3qm9Ekf\"\n",
       "          crossorigin=\"anonymous\"\n",
       "        ></script>\n",
       "\n",
       "\n",
       "        <center>\n",
       "          <h1></h1>\n",
       "        </center>\n",
       "        <style type=\"text/css\">\n",
       "\n",
       "             #mynetwork {\n",
       "                 width: 100%;\n",
       "                 height: 750px;\n",
       "                 background-color: #ffffff;\n",
       "                 border: 1px solid lightgray;\n",
       "                 position: relative;\n",
       "                 float: left;\n",
       "             }\n",
       "\n",
       "             \n",
       "\n",
       "             \n",
       "\n",
       "             \n",
       "        </style>\n",
       "    </head>\n",
       "\n",
       "\n",
       "    <body>\n",
       "        <div class=\"card\" style=\"width: 100%\">\n",
       "            \n",
       "            \n",
       "            <div id=\"mynetwork\" class=\"card-body\"></div>\n",
       "        </div>\n",
       "\n",
       "        \n",
       "        \n",
       "\n",
       "        <script type=\"text/javascript\">\n",
       "\n",
       "              // initialize global variables.\n",
       "              var edges;\n",
       "              var nodes;\n",
       "              var allNodes;\n",
       "              var allEdges;\n",
       "              var nodeColors;\n",
       "              var originalNodes;\n",
       "              var network;\n",
       "              var container;\n",
       "              var options, data;\n",
       "              var filter = {\n",
       "                  item : '',\n",
       "                  property : '',\n",
       "                  value : []\n",
       "              };\n",
       "\n",
       "              \n",
       "\n",
       "              \n",
       "\n",
       "              // This method is responsible for drawing the graph, returns the drawn network\n",
       "              function drawGraph() {\n",
       "                  var container = document.getElementById('mynetwork');\n",
       "\n",
       "                  \n",
       "\n",
       "                  // parsing and collecting nodes and edges from the python\n",
       "                  nodes = new vis.DataSet([{\"color\": \"#ADD8E6\", \"id\": \"_done\", \"label\": \"_done\", \"shape\": \"box\"}, {\"color\": \"#90EE90\", \"id\": \"StopEvent\", \"label\": \"StopEvent\", \"shape\": \"ellipse\"}, {\"color\": \"#ADD8E6\", \"id\": \"step_one\", \"label\": \"step_one\", \"shape\": \"box\"}, {\"color\": \"#E27AFF\", \"id\": \"StartEvent\", \"label\": \"StartEvent\", \"shape\": \"ellipse\"}, {\"color\": \"#90EE90\", \"id\": \"LoopEvent\", \"label\": \"LoopEvent\", \"shape\": \"ellipse\"}, {\"color\": \"#90EE90\", \"id\": \"FirstEvent\", \"label\": \"FirstEvent\", \"shape\": \"ellipse\"}, {\"color\": \"#ADD8E6\", \"id\": \"step_three\", \"label\": \"step_three\", \"shape\": \"box\"}, {\"color\": \"#90EE90\", \"id\": \"SecondEvent\", \"label\": \"SecondEvent\", \"shape\": \"ellipse\"}, {\"color\": \"#ADD8E6\", \"id\": \"step_two\", \"label\": \"step_two\", \"shape\": \"box\"}]);\n",
       "                  edges = new vis.DataSet([{\"arrows\": \"to\", \"from\": \"StopEvent\", \"to\": \"_done\"}, {\"arrows\": \"to\", \"from\": \"step_one\", \"to\": \"FirstEvent\"}, {\"arrows\": \"to\", \"from\": \"StartEvent\", \"to\": \"step_one\"}, {\"arrows\": \"to\", \"from\": \"LoopEvent\", \"to\": \"step_one\"}, {\"arrows\": \"to\", \"from\": \"step_three\", \"to\": \"StopEvent\"}, {\"arrows\": \"to\", \"from\": \"SecondEvent\", \"to\": \"step_three\"}, {\"arrows\": \"to\", \"from\": \"step_two\", \"to\": \"SecondEvent\"}, {\"arrows\": \"to\", \"from\": \"FirstEvent\", \"to\": \"step_two\"}]);\n",
       "\n",
       "                  nodeColors = {};\n",
       "                  allNodes = nodes.get({ returnType: \"Object\" });\n",
       "                  for (nodeId in allNodes) {\n",
       "                    nodeColors[nodeId] = allNodes[nodeId].color;\n",
       "                  }\n",
       "                  allEdges = edges.get({ returnType: \"Object\" });\n",
       "                  // adding nodes and edges to the graph\n",
       "                  data = {nodes: nodes, edges: edges};\n",
       "\n",
       "                  var options = {\n",
       "    \"configure\": {\n",
       "        \"enabled\": false\n",
       "    },\n",
       "    \"edges\": {\n",
       "        \"color\": {\n",
       "            \"inherit\": true\n",
       "        },\n",
       "        \"smooth\": {\n",
       "            \"enabled\": true,\n",
       "            \"type\": \"dynamic\"\n",
       "        }\n",
       "    },\n",
       "    \"interaction\": {\n",
       "        \"dragNodes\": true,\n",
       "        \"hideEdgesOnDrag\": false,\n",
       "        \"hideNodesOnDrag\": false\n",
       "    },\n",
       "    \"physics\": {\n",
       "        \"enabled\": true,\n",
       "        \"stabilization\": {\n",
       "            \"enabled\": true,\n",
       "            \"fit\": true,\n",
       "            \"iterations\": 1000,\n",
       "            \"onlyDynamicEdges\": false,\n",
       "            \"updateInterval\": 50\n",
       "        }\n",
       "    }\n",
       "};\n",
       "\n",
       "                  \n",
       "\n",
       "\n",
       "                  \n",
       "\n",
       "                  network = new vis.Network(container, data, options);\n",
       "\n",
       "                  \n",
       "\n",
       "                  \n",
       "\n",
       "                  \n",
       "\n",
       "\n",
       "                  \n",
       "\n",
       "                  return network;\n",
       "\n",
       "              }\n",
       "              drawGraph();\n",
       "        </script>\n",
       "    </body>\n",
       "</html> </div>"
      ],
      "text/plain": [
       "<IPython.core.display.HTML object>"
      ]
     },
     "metadata": {
      "isolated": true
     },
     "output_type": "display_data"
    }
   ],
   "source": [
    "WORKFLOW_FILE = \"loop_events.html\"\n",
    "draw_all_possible_flows(loop_workflow, filename=WORKFLOW_FILE)\n",
    "html_content = extract_html_content(WORKFLOW_FILE)\n",
    "display(HTML(html_content), metadata=dict(isolated=True))"
   ]
  },
  {
   "cell_type": "markdown",
   "id": "c22b3a29-c614-471d-b737-070657759dee",
   "metadata": {},
   "source": [
    "## Concurrent Execution "
   ]
  },
  {
   "cell_type": "code",
   "execution_count": 13,
   "id": "a96a910d-d9ac-4a20-9beb-22ddef1e0e27",
   "metadata": {},
   "outputs": [
    {
     "name": "stdout",
     "output_type": "stream",
     "text": [
      "Running Slow Query :  Query 1\n",
      "Running Slow Query :  Query 2\n",
      "Running Slow Query :  Query 3\n",
      "Query 1\n"
     ]
    }
   ],
   "source": [
    "import asyncio\n",
    "\n",
    "class StepTwoEvent(Event):\n",
    "    query: str\n",
    "\n",
    "class ParallelFlow(Workflow):\n",
    "    @step\n",
    "    async def start(self, ctx: Context, ev:StartEvent) -> StepTwoEvent:\n",
    "        ctx.send_event(StepTwoEvent(query=\"Query 1\"))\n",
    "        ctx.send_event(StepTwoEvent(query=\"Query 2\"))\n",
    "        ctx.send_event(StepTwoEvent(query=\"Query 3\"))\n",
    "\n",
    "    @step(num_workers=4)\n",
    "    async def step_two(self,ctx: Context, ev:StepTwoEvent) -> StopEvent:\n",
    "        print(\"Running Slow Query : \", ev.query)\n",
    "        await asyncio.sleep(random.randint(1, 5))\n",
    "        return StopEvent(result=ev.query)\n",
    "\n",
    "parallel_workflow = ParallelFlow(timeout=10, verbose=False)\n",
    "result = await parallel_workflow.run()\n",
    "print(result)            "
   ]
  },
  {
   "cell_type": "markdown",
   "id": "6843f667-1a4b-4e20-8129-d684373fdb6c",
   "metadata": {},
   "source": [
    "## Collecting Events "
   ]
  },
  {
   "cell_type": "code",
   "execution_count": null,
   "id": "e743ff7e-7de3-4c70-93fb-0b02c5d4335c",
   "metadata": {},
   "outputs": [],
   "source": [
    "class StepThreeEvent(Event):\n",
    "    result: str\n",
    "\n",
    "class ConcurrentFlow(Workflow):\n",
    "    @step\n",
    "    async def start(self, ctx: Context, ev: StartEvent) -> StepTwoEvent:\n",
    "        ctx.send_event(StepTwoEvent(query=\"Query 1\"))\n",
    "        ctx.send_event(StepTwoEvent(query=\"Query 2\"))\n",
    "        ctx.send_event(StepTwoEvent(query=\"Query 3\"))\n",
    "\n",
    "    @step\n",
    "    async def "
   ]
  }
 ],
 "metadata": {
  "kernelspec": {
   "display_name": "Python 3 (ipykernel)",
   "language": "python",
   "name": "python3"
  },
  "language_info": {
   "codemirror_mode": {
    "name": "ipython",
    "version": 3
   },
   "file_extension": ".py",
   "mimetype": "text/x-python",
   "name": "python",
   "nbconvert_exporter": "python",
   "pygments_lexer": "ipython3",
   "version": "3.12.3"
  }
 },
 "nbformat": 4,
 "nbformat_minor": 5
}
