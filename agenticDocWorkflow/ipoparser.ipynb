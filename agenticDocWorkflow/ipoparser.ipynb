{
 "cells": [
  {
   "cell_type": "code",
   "execution_count": 8,
   "id": "eafb3a13-bf0b-4f1d-ad49-5da77299705b",
   "metadata": {},
   "outputs": [],
   "source": [
    "# Importing the Libraries \n",
    "from helper import get_openai_api_key, get_llama_cloud_api_key\n",
    "from IPython.display import display, HTML\n",
    "from helper import extract_html_content\n",
    "from llama_index.utils.workflow import draw_all_possible_flows\n",
    "import os\n",
    "\n",
    "# LlamaParse \n",
    "from llama_parse import LlamaParse\n",
    "\n",
    "# For Building the Vector Index \n",
    "from llama_index.embeddings.openai import OpenAIEmbedding\n",
    "from llama_index.core import VectorStoreIndex\n",
    "\n",
    "# OpenAI \n",
    "from llama_index.llms.openai import OpenAI\n",
    "\n",
    "# For Reading and Loading Vector Index \n",
    "from llama_index.core import StorageContext, load_index_from_storage\n",
    "\n",
    "# For making RAG Agentic\n",
    "from llama_index.core.tools import FunctionTool\n",
    "from llama_index.core.agent import FunctionCallingAgent"
   ]
  },
  {
   "cell_type": "code",
   "execution_count": 9,
   "id": "74aa2c2c-88ca-4233-8747-83d821ccf31f",
   "metadata": {},
   "outputs": [],
   "source": [
    "# For Async Operations \n",
    "import nest_asyncio\n",
    "nest_asyncio.apply()"
   ]
  },
  {
   "cell_type": "code",
   "execution_count": 6,
   "id": "78fe1d80-7cf4-4d0e-88a7-5fe85eab720d",
   "metadata": {},
   "outputs": [],
   "source": [
    "# Getting the API Keys \n",
    "llama_cloud_api_key = get_llama_cloud_api_key()\n",
    "openai_api_key = get_openai_api_key()"
   ]
  },
  {
   "cell_type": "code",
   "execution_count": 14,
   "id": "10e1212e-d102-4c1a-a0bd-de176b3f5f76",
   "metadata": {},
   "outputs": [
    {
     "name": "stdout",
     "output_type": "stream",
     "text": [
      "WARNING: content_guideline_instruction is deprecated and may be remove in a future release. Use system_prompt, system_prompt_append or user_prompt instead.\n",
      "Started parsing the file under job_id 876fe88c-e26f-4538-a6de-361f80ae2a01\n",
      ".."
     ]
    }
   ],
   "source": [
    "# For Parsing the Annual Report \n",
    "annual_report=\"./igl_annual_report.pdf\"\n",
    "base_url = \"https://api.cloud.llamaindex.ai/api/parsing\"\n",
    "documents = LlamaParse(\n",
    "    api_key=llama_cloud_api_key,\n",
    "    # base_url=base_url,\n",
    "    result_type=\"markdown\",\n",
    "    content_guideline_instruction=\"This is an corporate annual report, gather related facts together and format it as bullet points with header\",\n",
    "    verbose=True\n",
    ").load_data(\n",
    "    annual_report,\n",
    ")"
   ]
  },
  {
   "cell_type": "code",
   "execution_count": 20,
   "id": "425e1f3b-7a2f-4faf-b293-7752d32bdce9",
   "metadata": {},
   "outputs": [],
   "source": [
    "# print(documents)"
   ]
  },
  {
   "cell_type": "code",
   "execution_count": 24,
   "id": "4fe9cfc4-62fe-4701-b1af-ce89b5b1765a",
   "metadata": {},
   "outputs": [],
   "source": [
    "# For Building the Vector Index \n",
    "index = VectorStoreIndex.from_documents(\n",
    "    documents[:21],\n",
    "    embed_model=OpenAIEmbedding(model_name=\"text-embedding-3-small\", \n",
    "                                api_key= openai_api_key)\n",
    ")"
   ]
  },
  {
   "cell_type": "code",
   "execution_count": 26,
   "id": "0a5d3ee8-a2ae-4ef4-adec-dac57ed486f2",
   "metadata": {},
   "outputs": [
    {
     "name": "stdout",
     "output_type": "stream",
     "text": [
      "Indraprastha Gas Limited\n"
     ]
    }
   ],
   "source": [
    "# Querying the Index \n",
    "llm = OpenAI(model=\"gpt-4o-mini\")\n",
    "query_engine = index.as_query_engine(llm=llm, similarity_top_k=5)\n",
    "response = query_engine.query(\"What is the name of the company?\")\n",
    "print(response)"
   ]
  },
  {
   "cell_type": "code",
   "execution_count": 25,
   "id": "59bc7f4e-a5d1-425b-80d5-9d1f91f7555c",
   "metadata": {},
   "outputs": [],
   "source": [
    "# Storing the Index \n",
    "storage_dir = \"./storage\"\n",
    "index.storage_context.persist(persist_dir=storage_dir)"
   ]
  },
  {
   "cell_type": "code",
   "execution_count": 27,
   "id": "bdc28c79-3aad-47b6-908b-f435d06f15df",
   "metadata": {},
   "outputs": [
    {
     "name": "stdout",
     "output_type": "stream",
     "text": [
      "The name of the company is Indraprastha Gas. Its vision is focused on progress towards a sustainable future.\n"
     ]
    }
   ],
   "source": [
    "# Reloading Index from Disk \n",
    "# Check if the index is stored on disk\n",
    "if os.path.exists(storage_dir):\n",
    "    # Load the index from disk\n",
    "    storage_context = StorageContext.from_defaults(persist_dir=storage_dir)\n",
    "    restored_index = load_index_from_storage(storage_context)\n",
    "else:\n",
    "    print(\"Index not found on disk.\")\n",
    "\n",
    "# Querying the Loaded Index \n",
    "response = restored_index.as_query_engine().query(\"What is the name of the company and its vision?\")\n",
    "print(response)"
   ]
  },
  {
   "cell_type": "markdown",
   "id": "e3b2ba99-935e-4d8d-a081-9ddf66554cd7",
   "metadata": {},
   "source": [
    "## Making RAG Agentic "
   ]
  },
  {
   "cell_type": "code",
   "execution_count": 28,
   "id": "13b98709-1233-4920-b455-96ca611611b4",
   "metadata": {},
   "outputs": [],
   "source": [
    "def query_report(q: str) -> str:\n",
    "    \"\"\"Answers questions about a specific annual report.\"\"\"\n",
    "    # we're using the query engine we already created above\n",
    "    response = query_engine.query(f\"This is a question about the given annual report : {q}\")\n",
    "    return response.response"
   ]
  },
  {
   "cell_type": "code",
   "execution_count": 29,
   "id": "b4b9bb06-0ea1-4738-b7b9-c4f419194ede",
   "metadata": {},
   "outputs": [],
   "source": [
    "annual_report_tool = FunctionTool.from_defaults(fn=query_report)"
   ]
  },
  {
   "cell_type": "code",
   "execution_count": 30,
   "id": "d5630cb4-9d3d-49b6-9094-66a41113cb1b",
   "metadata": {},
   "outputs": [],
   "source": [
    "agent = FunctionCallingAgent.from_tools(\n",
    "    tools=[annual_report_tool],\n",
    "    llm=llm,\n",
    "    verbose=True\n",
    ")"
   ]
  },
  {
   "cell_type": "code",
   "execution_count": 31,
   "id": "b49094af-07f9-4057-89d6-063caec7373a",
   "metadata": {},
   "outputs": [
    {
     "name": "stdout",
     "output_type": "stream",
     "text": [
      "> Running step baa70463-d151-420c-9433-608ac2466b76. Step input: What is the net profit of the company?\n",
      "Added user message to memory: What is the net profit of the company?\n",
      "=== Calling Function ===\n",
      "Calling function: query_report with args: {\"q\": \"What is the net profit of the company?\"}\n",
      "=== Function Output ===\n",
      "The net profit of the company for the year ended March 31, 2024, is Rs. 1,748.08 Crores.\n",
      "> Running step 9a235a41-4617-41e3-8639-a91f52a98918. Step input: None\n",
      "=== LLM Response ===\n",
      "The net profit of the company for the year ended March 31, 2024, is Rs. 1,748.08 Crores.\n",
      "The net profit of the company for the year ended March 31, 2024, is Rs. 1,748.08 Crores.\n"
     ]
    }
   ],
   "source": [
    "response = agent.chat(\"What is the net profit of the company?\")\n",
    "print(response)"
   ]
  },
  {
   "cell_type": "code",
   "execution_count": null,
   "id": "160286b4-ceff-406d-8fb0-163a97e7d56b",
   "metadata": {},
   "outputs": [],
   "source": []
  }
 ],
 "metadata": {
  "kernelspec": {
   "display_name": "Python 3 (ipykernel)",
   "language": "python",
   "name": "python3"
  },
  "language_info": {
   "codemirror_mode": {
    "name": "ipython",
    "version": 3
   },
   "file_extension": ".py",
   "mimetype": "text/x-python",
   "name": "python",
   "nbconvert_exporter": "python",
   "pygments_lexer": "ipython3",
   "version": "3.12.3"
  }
 },
 "nbformat": 4,
 "nbformat_minor": 5
}
