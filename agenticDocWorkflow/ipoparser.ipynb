{
 "cells": [
  {
   "cell_type": "code",
   "execution_count": 1,
   "id": "eafb3a13-bf0b-4f1d-ad49-5da77299705b",
   "metadata": {},
   "outputs": [],
   "source": [
    "# Importing the Libraries \n",
    "from helper import get_openai_api_key, get_llama_cloud_api_key\n",
    "from IPython.display import display, HTML\n",
    "from helper import extract_html_content\n",
    "from llama_index.utils.workflow import draw_all_possible_flows\n",
    "import os\n",
    "\n",
    "# LlamaParse \n",
    "from llama_parse import LlamaParse\n",
    "\n",
    "# For Building the Vector Index \n",
    "from llama_index.embeddings.openai import OpenAIEmbedding\n",
    "from llama_index.core import VectorStoreIndex\n",
    "\n",
    "# OpenAI \n",
    "from llama_index.llms.openai import OpenAI\n",
    "\n",
    "# For Reading and Loading Vector Index \n",
    "from llama_index.core import StorageContext, load_index_from_storage\n",
    "\n",
    "# For making RAG Agentic\n",
    "from llama_index.core.tools import FunctionTool\n",
    "from llama_index.core.agent import FunctionCallingAgent"
   ]
  },
  {
   "cell_type": "code",
   "execution_count": 2,
   "id": "74aa2c2c-88ca-4233-8747-83d821ccf31f",
   "metadata": {},
   "outputs": [],
   "source": [
    "# For Async Operations \n",
    "import nest_asyncio\n",
    "nest_asyncio.apply()"
   ]
  },
  {
   "cell_type": "code",
   "execution_count": 3,
   "id": "78fe1d80-7cf4-4d0e-88a7-5fe85eab720d",
   "metadata": {},
   "outputs": [],
   "source": [
    "# Getting the API Keys \n",
    "llama_cloud_api_key = get_llama_cloud_api_key()\n",
    "openai_api_key = get_openai_api_key()"
   ]
  },
  {
   "cell_type": "code",
   "execution_count": 14,
   "id": "10e1212e-d102-4c1a-a0bd-de176b3f5f76",
   "metadata": {},
   "outputs": [
    {
     "name": "stdout",
     "output_type": "stream",
     "text": [
      "WARNING: content_guideline_instruction is deprecated and may be remove in a future release. Use system_prompt, system_prompt_append or user_prompt instead.\n",
      "Started parsing the file under job_id 876fe88c-e26f-4538-a6de-361f80ae2a01\n",
      ".."
     ]
    }
   ],
   "source": [
    "# For Parsing the Annual Report \n",
    "annual_report=\"./igl_annual_report.pdf\"\n",
    "base_url = \"https://api.cloud.llamaindex.ai/api/parsing\"\n",
    "documents = LlamaParse(\n",
    "    api_key=llama_cloud_api_key,\n",
    "    # base_url=base_url,\n",
    "    result_type=\"markdown\",\n",
    "    content_guideline_instruction=\"This is an corporate annual report, gather related facts together and format it as bullet points with header\",\n",
    "    verbose=True\n",
    ").load_data(\n",
    "    annual_report,\n",
    ")"
   ]
  },
  {
   "cell_type": "code",
   "execution_count": 20,
   "id": "425e1f3b-7a2f-4faf-b293-7752d32bdce9",
   "metadata": {},
   "outputs": [],
   "source": [
    "# print(documents)"
   ]
  },
  {
   "cell_type": "code",
   "execution_count": 24,
   "id": "4fe9cfc4-62fe-4701-b1af-ce89b5b1765a",
   "metadata": {},
   "outputs": [],
   "source": [
    "# For Building the Vector Index \n",
    "index = VectorStoreIndex.from_documents(\n",
    "    documents[:21],\n",
    "    embed_model=OpenAIEmbedding(model_name=\"text-embedding-3-small\", \n",
    "                                api_key= openai_api_key)\n",
    ")"
   ]
  },
  {
   "cell_type": "code",
   "execution_count": 26,
   "id": "0a5d3ee8-a2ae-4ef4-adec-dac57ed486f2",
   "metadata": {},
   "outputs": [
    {
     "name": "stdout",
     "output_type": "stream",
     "text": [
      "Indraprastha Gas Limited\n"
     ]
    }
   ],
   "source": [
    "# Querying the Index \n",
    "llm = OpenAI(model=\"gpt-4o-mini\")\n",
    "query_engine = index.as_query_engine(llm=llm, similarity_top_k=5)\n",
    "response = query_engine.query(\"What is the name of the company?\")\n",
    "print(response)"
   ]
  },
  {
   "cell_type": "code",
   "execution_count": 25,
   "id": "59bc7f4e-a5d1-425b-80d5-9d1f91f7555c",
   "metadata": {},
   "outputs": [],
   "source": [
    "# Storing the Index \n",
    "storage_dir = \"./storage\"\n",
    "index.storage_context.persist(persist_dir=storage_dir)"
   ]
  },
  {
   "cell_type": "code",
   "execution_count": 27,
   "id": "bdc28c79-3aad-47b6-908b-f435d06f15df",
   "metadata": {},
   "outputs": [
    {
     "name": "stdout",
     "output_type": "stream",
     "text": [
      "The name of the company is Indraprastha Gas. Its vision is focused on progress towards a sustainable future.\n"
     ]
    }
   ],
   "source": [
    "# Reloading Index from Disk \n",
    "# Check if the index is stored on disk\n",
    "if os.path.exists(storage_dir):\n",
    "    # Load the index from disk\n",
    "    storage_context = StorageContext.from_defaults(persist_dir=storage_dir)\n",
    "    restored_index = load_index_from_storage(storage_context)\n",
    "else:\n",
    "    print(\"Index not found on disk.\")\n",
    "\n",
    "# Querying the Loaded Index \n",
    "response = restored_index.as_query_engine().query(\"What is the name of the company and its vision?\")\n",
    "print(response)"
   ]
  },
  {
   "cell_type": "markdown",
   "id": "e3b2ba99-935e-4d8d-a081-9ddf66554cd7",
   "metadata": {},
   "source": [
    "## Making RAG Agentic "
   ]
  },
  {
   "cell_type": "code",
   "execution_count": 28,
   "id": "13b98709-1233-4920-b455-96ca611611b4",
   "metadata": {},
   "outputs": [],
   "source": [
    "def query_report(q: str) -> str:\n",
    "    \"\"\"Answers questions about a specific annual report.\"\"\"\n",
    "    # we're using the query engine we already created above\n",
    "    response = query_engine.query(f\"This is a question about the given annual report : {q}\")\n",
    "    return response.response"
   ]
  },
  {
   "cell_type": "code",
   "execution_count": 29,
   "id": "b4b9bb06-0ea1-4738-b7b9-c4f419194ede",
   "metadata": {},
   "outputs": [],
   "source": [
    "annual_report_tool = FunctionTool.from_defaults(fn=query_report)"
   ]
  },
  {
   "cell_type": "code",
   "execution_count": 30,
   "id": "d5630cb4-9d3d-49b6-9094-66a41113cb1b",
   "metadata": {},
   "outputs": [],
   "source": [
    "agent = FunctionCallingAgent.from_tools(\n",
    "    tools=[annual_report_tool],\n",
    "    llm=llm,\n",
    "    verbose=True\n",
    ")"
   ]
  },
  {
   "cell_type": "code",
   "execution_count": 31,
   "id": "b49094af-07f9-4057-89d6-063caec7373a",
   "metadata": {},
   "outputs": [
    {
     "name": "stdout",
     "output_type": "stream",
     "text": [
      "> Running step baa70463-d151-420c-9433-608ac2466b76. Step input: What is the net profit of the company?\n",
      "Added user message to memory: What is the net profit of the company?\n",
      "=== Calling Function ===\n",
      "Calling function: query_report with args: {\"q\": \"What is the net profit of the company?\"}\n",
      "=== Function Output ===\n",
      "The net profit of the company for the year ended March 31, 2024, is Rs. 1,748.08 Crores.\n",
      "> Running step 9a235a41-4617-41e3-8639-a91f52a98918. Step input: None\n",
      "=== LLM Response ===\n",
      "The net profit of the company for the year ended March 31, 2024, is Rs. 1,748.08 Crores.\n",
      "The net profit of the company for the year ended March 31, 2024, is Rs. 1,748.08 Crores.\n"
     ]
    }
   ],
   "source": [
    "response = agent.chat(\"What is the net profit of the company?\")\n",
    "print(response)"
   ]
  },
  {
   "cell_type": "markdown",
   "id": "d8ddf749-618c-433f-8ca5-eb990cd38fe1",
   "metadata": {},
   "source": [
    "## Converting Agentic RAG to a Workflow "
   ]
  },
  {
   "cell_type": "code",
   "execution_count": 4,
   "id": "84aec5bc-bdae-42d3-be89-6067f4ae7031",
   "metadata": {},
   "outputs": [],
   "source": [
    "from llama_index.core.workflow import (\n",
    "    StartEvent,\n",
    "    StopEvent,\n",
    "    Workflow,\n",
    "    step,\n",
    "    Event,\n",
    "    Context\n",
    ")"
   ]
  },
  {
   "cell_type": "code",
   "execution_count": 5,
   "id": "b1c3dec4-40aa-4cd1-b0c4-7636cb4fe613",
   "metadata": {},
   "outputs": [],
   "source": [
    "class QueryEvent(Event):\n",
    "    query: str"
   ]
  },
  {
   "cell_type": "code",
   "execution_count": 10,
   "id": "ef1bf81a-e1d2-48a9-b214-4aea4ed8e538",
   "metadata": {},
   "outputs": [],
   "source": [
    "class RAGWorkflow(Workflow):\n",
    "    storage_dir = \"./storage\"\n",
    "    llm: OpenAI\n",
    "    query_engine: VectorStoreIndex\n",
    "\n",
    "    # The Initial Setup \n",
    "    @step\n",
    "    async def setup(self, ctx: Context, ev: StartEvent) -> QueryEvent:\n",
    "\n",
    "        if not ev.annual_report_file :\n",
    "            raise ValueError(\"No Report File provided\")\n",
    "\n",
    "        # Define LLM to work with \n",
    "        # We will use the OpenAI GPT 4 \n",
    "        self.llm = OpenAI(model=\"gpt-4o-mini\")\n",
    "\n",
    "        # Ingest the Path and set up the query engine \n",
    "        if os.path.exists(self.storage_dir):\n",
    "            # The Vector Index is already present \n",
    "            storage_context = StorageContext.from_defaults(persist_dir=self.storage_dir)\n",
    "            index = load_index_from_storage(storage_context)\n",
    "        else:\n",
    "            # parse and load your documents\n",
    "            documents = LlamaParse(\n",
    "                api_key=llama_cloud_api_key,\n",
    "                result_type=\"markdown\",\n",
    "                content_guideline_instruction=\"This is a corporate annual report, gather related facts together and format it as bullet points with headers\"\n",
    "            ).load_data(ev.annual_report_file)\n",
    "            # embed and index the documents\n",
    "            index = VectorStoreIndex.from_documents(\n",
    "                documents,\n",
    "                embed_model=OpenAIEmbedding(model_name=\"text-embedding-3-small\")\n",
    "            )\n",
    "            index.storage_context.persist(persist_dir=self.storage_dir)\n",
    "\n",
    "        # Create a Query Engine \n",
    "        self.query_engine = index.as_query_engine(llm=self.llm, similarity_top_k=5)\n",
    "\n",
    "        # Fire off QueryEvent to trigger the next step \n",
    "        return QueryEvent(query=ev.query)\n",
    "\n",
    "    # Step 2 : Ask a Question and return the Result \n",
    "    @step\n",
    "    async def ask_question(self, ev: QueryEvent) -> StopEvent:\n",
    "        response = self.query_engine.query(f\"This is a question about the specific annual report :{ev.query}\")\n",
    "        return StopEvent(result=response.response)\n",
    "        "
   ]
  },
  {
   "cell_type": "code",
   "execution_count": 11,
   "id": "eb3fe9ab-e879-43c1-a77e-d2ea3a0d0c91",
   "metadata": {},
   "outputs": [
    {
     "name": "stdout",
     "output_type": "stream",
     "text": [
      "Indraprastha Gas Limited\n"
     ]
    }
   ],
   "source": [
    "w = RAGWorkflow(timeout=120, verbose=False)\n",
    "result = await w.run(\n",
    "    annual_report_file=\"./igl_annual_report.pdf\",\n",
    "    query=\"What is the name of the organization ?\"\n",
    ")\n",
    "print(result)"
   ]
  },
  {
   "cell_type": "markdown",
   "id": "e2832e93-88f0-4a24-9ff1-f91045ab7e0c",
   "metadata": {},
   "source": [
    "## Workflow Visualization "
   ]
  },
  {
   "cell_type": "code",
   "execution_count": 12,
   "id": "1690a047-06a2-446b-a114-8b78d16d4825",
   "metadata": {},
   "outputs": [
    {
     "name": "stdout",
     "output_type": "stream",
     "text": [
      "report_rag_workflow.html\n"
     ]
    },
    {
     "data": {
      "text/html": [
       " <div style=\"width: 100%; height: 800px; overflow: hidden;\"> <html>\n",
       "    <head>\n",
       "        <meta charset=\"utf-8\">\n",
       "        \n",
       "            <script src=\"lib/bindings/utils.js\"></script>\n",
       "            <link rel=\"stylesheet\" href=\"https://cdnjs.cloudflare.com/ajax/libs/vis-network/9.1.2/dist/dist/vis-network.min.css\" integrity=\"sha512-WgxfT5LWjfszlPHXRmBWHkV2eceiWTOBvrKCNbdgDYTHrT2AeLCGbF4sZlZw3UMN3WtL0tGUoIAKsu8mllg/XA==\" crossorigin=\"anonymous\" referrerpolicy=\"no-referrer\" />\n",
       "            <script src=\"https://cdnjs.cloudflare.com/ajax/libs/vis-network/9.1.2/dist/vis-network.min.js\" integrity=\"sha512-LnvoEWDFrqGHlHmDD2101OrLcbsfkrzoSpvtSQtxK3RMnRV0eOkhhBN2dXHKRrUU8p2DGRTk35n4O8nWSVe1mQ==\" crossorigin=\"anonymous\" referrerpolicy=\"no-referrer\"></script>\n",
       "            \n",
       "        \n",
       "<center>\n",
       "<h1></h1>\n",
       "</center>\n",
       "\n",
       "<!-- <link rel=\"stylesheet\" href=\"../node_modules/vis/dist/vis.min.css\" type=\"text/css\" />\n",
       "<script type=\"text/javascript\" src=\"../node_modules/vis/dist/vis.js\"> </script>-->\n",
       "        <link\n",
       "          href=\"https://cdn.jsdelivr.net/npm/bootstrap@5.0.0-beta3/dist/css/bootstrap.min.css\"\n",
       "          rel=\"stylesheet\"\n",
       "          integrity=\"sha384-eOJMYsd53ii+scO/bJGFsiCZc+5NDVN2yr8+0RDqr0Ql0h+rP48ckxlpbzKgwra6\"\n",
       "          crossorigin=\"anonymous\"\n",
       "        />\n",
       "        <script\n",
       "          src=\"https://cdn.jsdelivr.net/npm/bootstrap@5.0.0-beta3/dist/js/bootstrap.bundle.min.js\"\n",
       "          integrity=\"sha384-JEW9xMcG8R+pH31jmWH6WWP0WintQrMb4s7ZOdauHnUtxwoG2vI5DkLtS3qm9Ekf\"\n",
       "          crossorigin=\"anonymous\"\n",
       "        ></script>\n",
       "\n",
       "\n",
       "        <center>\n",
       "          <h1></h1>\n",
       "        </center>\n",
       "        <style type=\"text/css\">\n",
       "\n",
       "             #mynetwork {\n",
       "                 width: 100%;\n",
       "                 height: 750px;\n",
       "                 background-color: #ffffff;\n",
       "                 border: 1px solid lightgray;\n",
       "                 position: relative;\n",
       "                 float: left;\n",
       "             }\n",
       "\n",
       "             \n",
       "\n",
       "             \n",
       "\n",
       "             \n",
       "        </style>\n",
       "    </head>\n",
       "\n",
       "\n",
       "    <body>\n",
       "        <div class=\"card\" style=\"width: 100%\">\n",
       "            \n",
       "            \n",
       "            <div id=\"mynetwork\" class=\"card-body\"></div>\n",
       "        </div>\n",
       "\n",
       "        \n",
       "        \n",
       "\n",
       "        <script type=\"text/javascript\">\n",
       "\n",
       "              // initialize global variables.\n",
       "              var edges;\n",
       "              var nodes;\n",
       "              var allNodes;\n",
       "              var allEdges;\n",
       "              var nodeColors;\n",
       "              var originalNodes;\n",
       "              var network;\n",
       "              var container;\n",
       "              var options, data;\n",
       "              var filter = {\n",
       "                  item : '',\n",
       "                  property : '',\n",
       "                  value : []\n",
       "              };\n",
       "\n",
       "              \n",
       "\n",
       "              \n",
       "\n",
       "              // This method is responsible for drawing the graph, returns the drawn network\n",
       "              function drawGraph() {\n",
       "                  var container = document.getElementById('mynetwork');\n",
       "\n",
       "                  \n",
       "\n",
       "                  // parsing and collecting nodes and edges from the python\n",
       "                  nodes = new vis.DataSet([{\"color\": \"#ADD8E6\", \"id\": \"_done\", \"label\": \"_done\", \"shape\": \"box\"}, {\"color\": \"#FFA07A\", \"id\": \"StopEvent\", \"label\": \"StopEvent\", \"shape\": \"ellipse\"}, {\"color\": \"#ADD8E6\", \"id\": \"ask_question\", \"label\": \"ask_question\", \"shape\": \"box\"}, {\"color\": \"#90EE90\", \"id\": \"QueryEvent\", \"label\": \"QueryEvent\", \"shape\": \"ellipse\"}, {\"color\": \"#ADD8E6\", \"id\": \"setup\", \"label\": \"setup\", \"shape\": \"box\"}, {\"color\": \"#E27AFF\", \"id\": \"StartEvent\", \"label\": \"StartEvent\", \"shape\": \"ellipse\"}]);\n",
       "                  edges = new vis.DataSet([{\"arrows\": \"to\", \"from\": \"StopEvent\", \"to\": \"_done\"}, {\"arrows\": \"to\", \"from\": \"ask_question\", \"to\": \"StopEvent\"}, {\"arrows\": \"to\", \"from\": \"QueryEvent\", \"to\": \"ask_question\"}, {\"arrows\": \"to\", \"from\": \"setup\", \"to\": \"QueryEvent\"}, {\"arrows\": \"to\", \"from\": \"StartEvent\", \"to\": \"setup\"}]);\n",
       "\n",
       "                  nodeColors = {};\n",
       "                  allNodes = nodes.get({ returnType: \"Object\" });\n",
       "                  for (nodeId in allNodes) {\n",
       "                    nodeColors[nodeId] = allNodes[nodeId].color;\n",
       "                  }\n",
       "                  allEdges = edges.get({ returnType: \"Object\" });\n",
       "                  // adding nodes and edges to the graph\n",
       "                  data = {nodes: nodes, edges: edges};\n",
       "\n",
       "                  var options = {\n",
       "    \"configure\": {\n",
       "        \"enabled\": false\n",
       "    },\n",
       "    \"edges\": {\n",
       "        \"color\": {\n",
       "            \"inherit\": true\n",
       "        },\n",
       "        \"smooth\": {\n",
       "            \"enabled\": true,\n",
       "            \"type\": \"dynamic\"\n",
       "        }\n",
       "    },\n",
       "    \"interaction\": {\n",
       "        \"dragNodes\": true,\n",
       "        \"hideEdgesOnDrag\": false,\n",
       "        \"hideNodesOnDrag\": false\n",
       "    },\n",
       "    \"physics\": {\n",
       "        \"enabled\": true,\n",
       "        \"stabilization\": {\n",
       "            \"enabled\": true,\n",
       "            \"fit\": true,\n",
       "            \"iterations\": 1000,\n",
       "            \"onlyDynamicEdges\": false,\n",
       "            \"updateInterval\": 50\n",
       "        }\n",
       "    }\n",
       "};\n",
       "\n",
       "                  \n",
       "\n",
       "\n",
       "                  \n",
       "\n",
       "                  network = new vis.Network(container, data, options);\n",
       "\n",
       "                  \n",
       "\n",
       "                  \n",
       "\n",
       "                  \n",
       "\n",
       "\n",
       "                  \n",
       "\n",
       "                  return network;\n",
       "\n",
       "              }\n",
       "              drawGraph();\n",
       "        </script>\n",
       "    </body>\n",
       "</html> </div>"
      ],
      "text/plain": [
       "<IPython.core.display.HTML object>"
      ]
     },
     "metadata": {
      "isolated": true
     },
     "output_type": "display_data"
    }
   ],
   "source": [
    "WORKFLOW_FILE = \"report_rag_workflow.html\"\n",
    "draw_all_possible_flows(w, filename=WORKFLOW_FILE)\n",
    "html_content = extract_html_content(WORKFLOW_FILE)\n",
    "display(HTML(html_content), metadata=dict(isolated=True))"
   ]
  },
  {
   "cell_type": "code",
   "execution_count": null,
   "id": "31b1cf0a-043a-4d24-851a-018b47f30e53",
   "metadata": {},
   "outputs": [],
   "source": []
  }
 ],
 "metadata": {
  "kernelspec": {
   "display_name": "Python 3 (ipykernel)",
   "language": "python",
   "name": "python3"
  },
  "language_info": {
   "codemirror_mode": {
    "name": "ipython",
    "version": 3
   },
   "file_extension": ".py",
   "mimetype": "text/x-python",
   "name": "python",
   "nbconvert_exporter": "python",
   "pygments_lexer": "ipython3",
   "version": "3.12.3"
  }
 },
 "nbformat": 4,
 "nbformat_minor": 5
}
